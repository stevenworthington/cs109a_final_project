{
 "cells": [
  {
   "cell_type": "code",
   "execution_count": null,
   "id": "678afacf-dcbc-48cc-acb7-057302806a1b",
   "metadata": {},
   "outputs": [],
   "source": [
    "# vtreat\n",
    "\n",
    "# Setting up vtreat for a binomial classification problem\n",
    "treatment = vtreat.BinomialOutcomeTreatment(\n",
    "    outcome_name='readmitted',\n",
    "    outcome_target=1,  # Target for binary classification\n",
    "    cols_to_copy=None,  # Copy without any transformation\n",
    "    params={\n",
    "        'filter_to_recommended': True,\n",
    "        'indicator_min_fraction': 0.01\n",
    "    }\n",
    ")\n",
    "\n",
    "# Fitting the treatment to the training data\n",
    "Xy_train = pd.concat([X_train, y_train], axis=1)\n",
    "train_treated = treatment.fit_transform(Xy_train)\n",
    "\n",
    "# Transform the test data using the same treatment\n",
    "Xy_test = pd.concat([X_test, y_test], axis=1)\n",
    "test_treated = treatment.transform(Xy_test)\n",
    "\n",
    "# examine score frame\n",
    "# treatment.score_frame_\n",
    "\n",
    "# recommended variables\n",
    "# treatment.score_frame_.loc[treatment.score_frame_['recommended'], ['variable']]\n",
    "\n",
    "# not recommended variables\n",
    "# treatment.score_frame_.loc[~treatment.score_frame_['recommended'], ['variable']]"
   ]
  },
  {
   "cell_type": "code",
   "execution_count": null,
   "id": "cce3e6e7-ee76-4ace-8338-78a81159c870",
   "metadata": {},
   "outputs": [],
   "source": [
    "#data = (train_treated.drop(columns=['readmitted']), \n",
    "#        test_treated.drop(columns=['readmitted']), \n",
    "#        train_treated['readmitted'], \n",
    "#        test_treated['readmitted'])"
   ]
  },
  {
   "cell_type": "code",
   "execution_count": null,
   "id": "4cd08583-f57e-4461-817f-92825923b96f",
   "metadata": {},
   "outputs": [],
   "source": [
    "#gb.fit(train_treated.drop(columns=['readmitted']), train_treated['readmitted']) # 0.721"
   ]
  },
  {
   "cell_type": "code",
   "execution_count": null,
   "id": "28e95a36-6e7d-460b-91d7-c4b8610c1f3c",
   "metadata": {},
   "outputs": [],
   "source": [
    "####################################\n",
    "########## SIMULATED DATA ##########\n",
    "####################################\n",
    "\n",
    "from sklearn import datasets\n",
    "\n",
    "random_state = 109\n",
    "\n",
    "# create dataset for binary classification with 5 predictors\n",
    "X, y = datasets.make_classification(\n",
    "    n_samples=1000,\n",
    "    n_features=5,\n",
    "    n_informative=3,\n",
    "    n_redundant=2,\n",
    "    random_state=random_state\n",
    ")\n",
    "\n",
    "# split into training and test\n",
    "X_train_transformed, X_test_transformed, y_train, y_test = train_test_split(\n",
    "    X, y,\n",
    "    train_size=0.8,\n",
    "    random_state=random_state\n",
    ")\n",
    "\n",
    "X_train_transformed = pd.DataFrame(X_train_transformed, columns=['one', 'two', 'three', 'four', 'five'])\n",
    "X_test_transformed = pd.DataFrame(X_test_transformed, columns=['one', 'two', 'three', 'four', 'five'])"
   ]
  },
  {
   "cell_type": "code",
   "execution_count": null,
   "id": "ea7368ec-ed2e-4a38-bcb9-a9521d65719b",
   "metadata": {},
   "outputs": [],
   "source": [
    "# Lasso Logistic Regression\n",
    "\n",
    "# C values to try \n",
    "Cs = [1e-1, 1e0, 1e1, 1e2, 1e3]\n",
    "\n",
    "# logistic regression model with elasticnet penalty and 10-fold CV\n",
    "lrr = LogisticRegressionCV(\n",
    "    Cs=Cs, cv=10, penalty='elasticnet', solver='saga', n_jobs=-1, # solver='liblinear' for l1\n",
    "    scoring='roc_auc', max_iter=1000, random_state=109, l1_ratios=[0, 0.5, 1],\n",
    ")\n",
    "\n",
    "start_time = time.time()\n",
    "\n",
    "lrr.fit(X_train_transformed, y_train)\n",
    "\n",
    "end_time = time.time()\n",
    "print(f\"Model fitting time: {end_time - start_time:.1f} seconds\")"
   ]
  },
  {
   "cell_type": "code",
   "execution_count": null,
   "id": "07ca460a-5419-48ff-a510-d176b837c9d7",
   "metadata": {},
   "outputs": [],
   "source": [
    "best_C = lrr.C_\n",
    "print(\"Best C for each class: \", best_C)"
   ]
  },
  {
   "cell_type": "code",
   "execution_count": null,
   "id": "29422e60-2c46-450c-8ca7-ffabe03cd242",
   "metadata": {},
   "outputs": [],
   "source": [
    "# get scores\n",
    "scores = lrr.scores_\n",
    "\n",
    "# Calculate mean scores across all folds\n",
    "mean_scores = {class_label: score.mean(axis=0) for class_label, score in scores.items()}\n",
    "\n",
    "# Print mean scores\n",
    "print(\"Mean Validation Scores: \", mean_scores)"
   ]
  }
 ],
 "metadata": {
  "kernelspec": {
   "display_name": "Python 3 (ipykernel)",
   "language": "python",
   "name": "python3"
  },
  "language_info": {
   "codemirror_mode": {
    "name": "ipython",
    "version": 3
   },
   "file_extension": ".py",
   "mimetype": "text/x-python",
   "name": "python",
   "nbconvert_exporter": "python",
   "pygments_lexer": "ipython3",
   "version": "3.11.5"
  }
 },
 "nbformat": 4,
 "nbformat_minor": 5
}
