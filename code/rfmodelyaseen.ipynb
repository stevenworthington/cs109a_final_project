{
 "cells": [
  {
   "cell_type": "code",
   "execution_count": null,
   "metadata": {},
   "outputs": [],
   "source": [
    "results=[]"
   ]
  },
  {
   "cell_type": "markdown",
   "metadata": {},
   "source": [
    "### Random Forest model:\n",
    "\n",
    "In our quest to optimize the Random Forest model, we employed GridSearchCV, a systematic approach to tuning hyperparameters. This method involved experimenting with a multitude of parameter combinations. For clarity and brevity in this demonstration, we have included only a select few of these combinations in the subsequent code snippet.\n",
    "\n",
    "To navigate effectively towards the optimal set of parameters, we adopted a visual approach. We plotted the Receiver Operating Characteristic (ROC) scores corresponding to each parameter combination. This graphical representation provided us with valuable insights into the trends and patterns of the model's performance. Specifically, it allowed us to discern how variations in parameters influenced the Area Under the ROC Curve (ROC AUC) score, a critical metric for evaluating the efficacy of our model. By analyzing these plots, we could more accurately identify the parameter settings that enhanced the model's predictive accuracy."
   ]
  },
  {
   "cell_type": "code",
   "execution_count": null,
   "metadata": {},
   "outputs": [],
   "source": [
    "\n",
    "# Best parameters: {'bootstrap': True, 'ccp_alpha': 0.0, 'class_weight': None, 'criterion': 'entropy', 'max_depth': 19, 'max_features': 'sqrt', 'max_leaf_nodes': None, 'min_impurity_decrease': 0.0, 'min_samples_leaf': 2, 'min_samples_split': 2, 'min_weight_fraction_leaf': 0.0, 'n_estimators': 800, 'n_jobs': -1, 'oob_score': False, 'random_state': 109, 'warm_start': False} \n",
    "#Val ROCAUC=73.2\n",
    "#Test ROCAUC=71.6\n",
    "\n",
    "\n",
    "params = {'random_state': [109],\n",
    "          'n_estimators': [800],\n",
    "          'criterion': ['entropy'],\n",
    "          'max_depth': [17,18,19],\n",
    "          'min_samples_split': [2,3,1],\n",
    "          'min_samples_leaf': [2],\n",
    "          'min_weight_fraction_leaf': [0.0],\n",
    "          'max_features': ['sqrt'],\n",
    "          'max_leaf_nodes': [None], \n",
    "          'min_impurity_decrease': [0.0],\n",
    "          'bootstrap': [True], \n",
    "          'oob_score': [False],\n",
    "          'n_jobs': [1],\n",
    "          'warm_start': [False], \n",
    "          'class_weight': [None],\n",
    "          'ccp_alpha': [0.0]\n",
    "         }\n",
    "\n",
    "\n",
    "# 10-fold CV\n",
    "rf = GridSearchCV(\n",
    "    estimator=RandomForestClassifier(),\n",
    "    param_grid=params,\n",
    "    cv=10,\n",
    "    scoring='roc_auc',\n",
    "    refit=True,\n",
    "    return_train_score=True,\n",
    "    n_jobs=1,\n",
    "    verbose=2\n",
    ")\n",
    "\n",
    "start_time = time.time()\n",
    "\n",
    "# fit the model\n",
    "rf.fit(X_train_transformed, y_train)\n",
    "#rf.fit(train_treated.drop(columns=['readmitted']), train_treated['readmitted']) # 0.711\n",
    "\n",
    "end_time = time.time()\n",
    "print(f\"Model fitting time: {end_time - start_time:.1f} seconds\")\n",
    "\n",
    "print(\"\\nBest parameters:\", rf.best_params_, \"\\n\\nAUCROC:\", round(rf.best_score_, 3))"
   ]
  },
  {
   "cell_type": "code",
   "execution_count": null,
   "metadata": {},
   "outputs": [],
   "source": [
    "# get training and validation scores for each hyperparameter combination\n",
    "pd.set_option('display.precision', 3)\n",
    "get_train_val_scores(rf, params=['min_samples_split', 'n_estimators'])"
   ]
  },
  {
   "cell_type": "code",
   "execution_count": null,
   "metadata": {},
   "outputs": [],
   "source": [
    "results=[]\n",
    "data = (X_train_transformed, X_test_transformed, y_train, y_test)\n",
    "results.append(get_performance_metrics(rf, 'Random Forest', data))\n",
    "get_results_df(results, model='Random Forest')"
   ]
  }
 ],
 "metadata": {
  "language_info": {
   "name": "python"
  },
  "orig_nbformat": 4
 },
 "nbformat": 4,
 "nbformat_minor": 2
}
