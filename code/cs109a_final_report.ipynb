{
 "cells": [
  {
   "cell_type": "markdown",
   "id": "OnEqCphqxYY3",
   "metadata": {
    "id": "OnEqCphqxYY3"
   },
   "source": [
    "# <img style=\"float: left; padding-right: 10px; width: 45px\" src=\"https://raw.githubusercontent.com/Harvard-IACS/2018-CS109A/master/content/styles/iacs.png\"> Predicting Hospital Readmission Rates for Diabetes\n",
    "## CS109a: Introduction to Data Science\n",
    "\n",
    "\n",
    "\n",
    "**Harvard University**<br/>\n",
    "**Fall 2023**<br/>\n",
    "**Team members**: Karim Gowani, Ryan McGillicuddy, Yaseen Mohmand, Steven Worthington\n",
    "\n",
    "\n",
    "<hr style=\"height:2pt\">"
   ]
  },
  {
   "cell_type": "markdown",
   "id": "MSayYpjlHKPg",
   "metadata": {
    "id": "MSayYpjlHKPg",
    "jp-MarkdownHeadingCollapsed": true
   },
   "source": [
    "# Introduction"
   ]
  },
  {
   "cell_type": "markdown",
   "id": "ByqZTSs3GN1A",
   "metadata": {
    "id": "ByqZTSs3GN1A"
   },
   "source": [
    "## i. About This Notebook\n",
    "\n",
    "This notebook represents a summary of a series of exploratory analysis, wherein we attempt various approaches to classify X-ray images into 14 disease classes and a 'no finding' class. For an overview of the analytical sections of this notebook, please see the [Notebook Contents](#Notebook-Contents) index listed below this Introduction.\n",
    "\n",
    "### i.i. A note about supporting notebooks\n",
    "\n",
    "The code and results reported in this notebook are only a summary of the work completed for this project - they represent the final form of our analyses. Supplemental notebooks containing auxillary EDA, data cleaning, and model exploration illustrated in this report can be found in the **`notebooks/`** directory of the **[GitHub project repository](https://github.com/liujinjie111/chestXray)**. The notebooks in this repository are not designed to be run in any particular order to reproduce the results shown in the final report. They just show the extra work and experiments we have tried that are not shown in the final report.\n",
    "\n",
    "## ii. Research Question\n",
    "\n",
    "After initial exploration and cleaning of the data, we have focused our efforts on the following research question:\n",
    "\n",
    "Which model architecture performs best for out-of-sample classification of the X-ray images into the 14 disease classes and 'no finding' class?\n",
    "\n",
    "## iii. Summary of Findings\n",
    "\n",
    "We found this project to be both interesting and quite challenging. We created an analysis pipeline using TF datasets that was efficient enough for us to experiment with many different modeling architectures in a short period of time. This encorporated downsampling of the majority image label classes to make modeling more tractable. We incorporated data augmentation steps into the model itself to use GPU, rather than CPU, cycles, thus reducing the computational burden and time cost of preprocessing, allowing us to devote more time to exploring different modelling approaches. \n"
   ]
  },
  {
   "cell_type": "markdown",
   "id": "54_zEcgbHupp",
   "metadata": {
    "id": "54_zEcgbHupp"
   },
   "source": [
    "<a name=\"Notebook-Contents\"></a>\n",
    "# Notebook Contents"
   ]
  },
  {
   "cell_type": "markdown",
   "id": "oRrQSWoyHjbX",
   "metadata": {
    "id": "oRrQSWoyHjbX"
   },
   "source": [
    "[Introduction](#Introduction)\n",
    "\n",
    "[Setup](#Setup)\n",
    "\n",
    "**[1. Data Source and Composition](#1.-Data-Source-and-Composition)**\n",
    "\n",
    "- [1.1. Data Source and Substantive Context](#1.1.-Data-Source-and-Substantive-Context)\n",
    "\n",
    "- [1.2. Data Granularity](#1.2.-Data-Granularity)\n",
    "\n",
    "- [1.3. Class Imbalance](#1.3.-Class-Imbalance)\n",
    " \n",
    "- [1.4. Missing Observations](#1.4.-Missing-Observations)\n",
    "  \n",
    "**[2. Exploratory Data Analysis and Preprocessing](#2.-Exploratory-Data-Analysis-and-Preprocessing)**\n",
    "\n",
    "- [2.1. Exploratory Data Analysis of Raw Data](#2.1.-Exploratory-Data-Analysis-of-Raw-Data)\n",
    "\n",
    "- [2.2. Data Preprocessing](#2.2.-Data-Preprocessing)\n",
    "\n",
    "- [2.3. Data Partitioning](#2.3.-Data-Partitioning)\n",
    " \n",
    "- [2.4. Exploratory Data Analysis of Cleaned Data](#2.4.-Exploratory-Data-Analysis-of-Cleaned-Data)\n",
    "\n",
    "- [2.5. Summary of EDA Key Findings](#2.5.-Summary-of-EDA-Key-Findings)\n",
    "\n",
    "**[3. Research Questions](#3.-Research-Questions)**\n",
    "\n",
    "**[4. Modeling Pipeline and Training](#4.-Modeling-Pipeline-and-Training)**\n",
    "\n",
    "- [4.1. Candidate Models](#4.1.-Candidate-Models)\n",
    "\n",
    "- [4.2. Hyperparameter Tuning Settings](#4.2.-Hyperparameter-Tuning-Settings)\n",
    "\n",
    "- [4.3. Performance Metrics](#4.3.-Performance-Metrics)\n",
    "\n",
    "- [4.4. Resampling Scheme](#4.4.-Resampling-Scheme)\n",
    "\n",
    "- [4.5. Model Training](#4.5.-Model-Training)\n",
    "\n",
    "**[5. Model Selection and Evaluation](#5.-Model-Selection-and-Evaluation)**\n",
    "\n",
    "- [5.1. Model Selection](#5.1.-Model-Selection)\n",
    "\n",
    "- [5.2. Best Model Performance](#5.2.-Best-Model-Performance)\n",
    "\n",
    "- [5.3. Variable Importance](#5.3.-Variable-Importance)\n",
    "\n",
    "**[6. Conclusions](#6.-Conclusions)**\n",
    "\n",
    "- [6.1. Patient Early Readmittance Rate](#6.1.-Patient-Early-Readmittance-Rate)\n",
    "\n",
    "- [6.2. Patient Risk Profiles](#6.2.-Patient-Risk-Profiles)\n",
    "\n",
    "**[7. Future Work](#7.-Future-Work)**\n",
    "\n",
    "**[8. References](#8.-References)**"
   ]
  },
  {
   "cell_type": "markdown",
   "id": "hHP1gK8HFsIi",
   "metadata": {
    "id": "hHP1gK8HFsIi"
   },
   "source": [
    "# Setup\n",
    "\n",
    "[Return to top](#Notebook-Contents)"
   ]
  },
  {
   "cell_type": "markdown",
   "id": "jkSKoN5ycDBU",
   "metadata": {
    "id": "jkSKoN5ycDBU"
   },
   "source": [
    "The following sections include general setup code for:\n",
    "1. Installing the necessary packages needed for data preparation, modeling, and visualization\n",
    "2. Setting pseudo-random number seeds for reproducibility"
   ]
  },
  {
   "cell_type": "markdown",
   "id": "28arK-Bz3Y0X",
   "metadata": {
    "id": "28arK-Bz3Y0X"
   },
   "source": [
    "### Install Modules"
   ]
  },
  {
   "cell_type": "code",
   "execution_count": 1,
   "id": "15c5ebd5-787f-4930-9e3e-97f620170a85",
   "metadata": {
    "id": "15c5ebd5-787f-4930-9e3e-97f620170a85"
   },
   "outputs": [],
   "source": [
    "# basic modules\n",
    "import os\n",
    "import time\n",
    "import numpy as np\n",
    "import pandas as pd\n",
    "%matplotlib inline\n",
    "import matplotlib.pyplot as plt\n",
    "import seaborn as sns\n",
    "\n",
    "# preprocessing\n",
    "from sklearn.decomposition import PCA\n",
    "from sklearn.preprocessing import StandardScaler\n",
    "from sklearn.impute import SimpleImputer, KNNImputer\n",
    "\n",
    "# models\n",
    "from sklearn.linear_model import LinearRegression, LogisticRegression, LogisticRegressionCV\n",
    "from sklearn.tree import DecisionTreeClassifier\n",
    "from sklearn.ensemble import RandomForestClassifier\n",
    "from sklearn.ensemble import AdaBoostClassifier \n",
    "\n",
    "# metrics & utilities\n",
    "from sklearn.model_selection import train_test_split, cross_validate, cross_val_score\n",
    "from sklearn.metrics import accuracy_score, confusion_matrix, classification_report\n",
    "from sklearn.metrics import roc_auc_score, roc_curve, RocCurveDisplay, auc\n",
    "from sklearn.metrics import average_precision_score, precision_recall_curve, PrecisionRecallDisplay\n",
    "from sklearn.metrics import precision_score, recall_score, f1_score\n",
    "from sklearn.utils import resample\n",
    "\n",
    "# warnings\n",
    "import warnings\n",
    "warnings.filterwarnings(\"ignore\")\n",
    "plt.style.use('seaborn-notebook')\n",
    "sns.set_style('darkgrid')\n",
    "\n",
    "# pandas tricks for better display\n",
    "pd.options.display.max_columns = 50  \n",
    "pd.options.display.max_rows = 500     \n",
    "pd.options.display.max_colwidth = 100\n",
    "pd.options.display.precision = 3\n",
    "\n",
    "# user defined functions\n",
    "from utility_functions import get_performance_metrics"
   ]
  },
  {
   "cell_type": "markdown",
   "id": "8ApQw4ga3kJ_",
   "metadata": {
    "id": "8ApQw4ga3kJ_",
    "jp-MarkdownHeadingCollapsed": true
   },
   "source": [
    "### Set RNG seeds"
   ]
  },
  {
   "cell_type": "code",
   "execution_count": null,
   "id": "NBxFxxPbgaSE",
   "metadata": {
    "id": "NBxFxxPbgaSE"
   },
   "outputs": [],
   "source": [
    "# Ensure replicable results\n",
    "import os\n",
    "import random as rn\n",
    "SEED = 109\n",
    "tf.random.set_seed(SEED)\n",
    "os.environ['PYTHONHASHSEED'] = '0'\n",
    "os.environ['CUDA_VISIBLE_DEVICES'] = ''\n",
    "tf.random.set_seed(SEED)\n",
    "np.random.seed(SEED)\n",
    "rn.seed(SEED)"
   ]
  },
  {
   "cell_type": "markdown",
   "id": "ij7PyqYbw7-E",
   "metadata": {
    "id": "ij7PyqYbw7-E",
    "jp-MarkdownHeadingCollapsed": true
   },
   "source": [
    "<a name=\"1.-Data-Source-and-Composition\"></a>\n",
    "# 1. Data Source and Composition\n",
    "\n",
    "[Return to top](#Notebook-Contents)"
   ]
  },
  {
   "cell_type": "markdown",
   "id": "G2yE0i7VZ6gA",
   "metadata": {
    "id": "G2yE0i7VZ6gA",
    "jp-MarkdownHeadingCollapsed": true
   },
   "source": [
    "<a name=\"1.1.-Data-Source-and-Substantive-Context\"></a>\n",
    "## 1.1 Data Source and Substantive Context\n",
    "\n",
    "[Return to top](#Notebook-Contents)"
   ]
  },
  {
   "cell_type": "markdown",
   "id": "4fdec518-019b-4e69-960f-749f0370a3a1",
   "metadata": {},
   "source": [
    "Our dataset is from the UC Irvine ML Repository and involves patient records of those diagnosed with diabetes from 1999 through 2008 at 130 US hospitals. We have downloaded this dataset and examined it. It has ~102K records, a binary target variable, and 47 features, the majority of which are categorical."
   ]
  },
  {
   "cell_type": "markdown",
   "id": "8f98aee9-3159-4f32-aab7-7d7e68b61c4f",
   "metadata": {},
   "source": [
    "<a name=\"1.2.-Data-Granularity\"></a>\n",
    "## 1.2 Data Granularity\n",
    "\n",
    "[Return to top](#Notebook-Contents)"
   ]
  },
  {
   "cell_type": "markdown",
   "id": "82336ab6-210e-4811-b5d6-bfe56ddd6c2c",
   "metadata": {},
   "source": [
    "In a clinical setting, doctors and medical staff would like to answer the question, “given information from the current and previous hospitalizations, how likely is it for this patient to be readmitted to hospital early (within 30 days)?”. This question is inherently at the patient-level, but each record in the dataset is at the level of an ‘encounter’, which represents a patient hospitalization event (rather than an outpatient visit). A subset of 16.5% of patients have multiple encounters.\n",
    "\n",
    "A patient-level perspective is more likely to be of benefit to clinicians, since answering the above question will help medical personnel prioritize follow-ups and interventions through the creation of patient risk profiles, which can identify patients at the highest risk level for early hospital readmittance. This information is actionable and can be used to mitigate negative health outcomes for these patients as well as increased costs for the hospital and insurance carrier. We will therefore aggregate data from the encounter-level to the patient-level.\n",
    "\n",
    "For those patients with multiple encounters, however, features that vary at the encounter-level contain important information that we do not wish to discard. For example, if a patient was readmitted early relative to the immediately preceding encounter, it is perhaps more likely that the patient will be readmitted to hospital early again after the current encounter. Therefore, our strategy will be to select only the final encounter for these patients and create several new derived features that encapsulate the history of their previous encounters. Such features will include, but are not limited to, the number of previous inpatient encounters, whether the last encounter resulted in early readmission, and whether the patient ever had a high value of A1c.\n",
    "\n",
    "In following this approach, we will have to make a (reasonable) assumption that encounters for each patient are in temporal order in the dataset because no explicit date information is provided."
   ]
  },
  {
   "cell_type": "markdown",
   "id": "c379f56b-763f-4e78-945a-20ee58ea4df1",
   "metadata": {},
   "source": [
    "<a name=\"1.3.-Class-Imbalance\"></a>\n",
    "## 1.3 Class Imbalance\n",
    "\n",
    "[Return to top](#Notebook-Contents)"
   ]
  },
  {
   "cell_type": "markdown",
   "id": "a44e118a-a2f8-4dbe-b940-dcb764baa4e4",
   "metadata": {},
   "source": [
    "About 11% of encounters belong to the positive class (readmitted within 30 days), so while there is imbalance, it is not severe. While our performance metric of interest - AUC - is robust to class imbalance, we will still try to address this issue in several ways. We will use stratified sampling in train/test splits, and we will attempt the standard techniques of undersampling and oversampling, as well as use of class weights built into the different ML models of interest, including Logistic Regression, CART, Random Forest, and XG Boost."
   ]
  },
  {
   "cell_type": "markdown",
   "id": "4892a96b-6e50-4d07-bcfe-efcf0f5ea129",
   "metadata": {},
   "source": [
    "<a name=\"1.4.-Missing-Observations\"></a>\n",
    "## 1.4 Missing Observations\n",
    "\n",
    "[Return to top](#Notebook-Contents)"
   ]
  },
  {
   "cell_type": "markdown",
   "id": "04a3e9b7-e37e-4723-88e5-301a51f86225",
   "metadata": {},
   "source": [
    "There are only 7 (out of 47) relevant columns that contain missing values:\n",
    "- weight is missing ~97% of its values, so this column can be safely dropped; no other numerical column has missing values.\n",
    "- medical specialty is missing ~49% of its values, but may be relevant to the classification task, so we keep it and fill the missing values with ‘unknown’..\n",
    "- payer code (insurance carrier) is missing ~40% of the values, but because it does not seem to be relevant to the target - it is also a candidate for being eliminated altogether.\n",
    "\n",
    "The remaining columns have less than 3% values missing so they can be managed. They are all categorical, including race and diagnosis codes. As is common for categorical variables, we will fill the missing values with 'unknown'."
   ]
  },
  {
   "cell_type": "markdown",
   "id": "72309a08-c74e-402a-8ee4-b9d2b57451ca",
   "metadata": {
    "id": "ij7PyqYbw7-E",
    "jp-MarkdownHeadingCollapsed": true
   },
   "source": [
    "<a name=\"2.-Exploratory-Data-Analysis-and-Preprocessing\"></a>\n",
    "# 2. Exploratory Data Analysis and Preprocessing\n",
    "\n",
    "[Return to top](#Notebook-Contents)"
   ]
  },
  {
   "cell_type": "markdown",
   "id": "pz8rNYJtQfR4",
   "metadata": {
    "id": "pz8rNYJtQfR4",
    "jp-MarkdownHeadingCollapsed": true
   },
   "source": [
    "<a name=\"2.1.-Exploratory-Data-Analysis-of-Raw-Data\"></a>\n",
    "## 2.1 Exploratory Data Analysis of Raw Data\n",
    "\n",
    "[Return to top](#Notebook-Contents)"
   ]
  },
  {
   "cell_type": "markdown",
   "id": "a722b44b-a09f-4fb8-9db1-cc4e978dc69a",
   "metadata": {
    "id": "GXAwzxT_zzgu",
    "jp-MarkdownHeadingCollapsed": true
   },
   "source": [
    "### Raw Diabetes Data"
   ]
  },
  {
   "cell_type": "markdown",
   "id": "5ea023f8-41de-43f8-8da3-885554233b01",
   "metadata": {
    "jp-MarkdownHeadingCollapsed": true
   },
   "source": [
    "<a name=\"2.2.-Data-Preprocessing\"></a>\n",
    "## 2.2 Data Preprocessing\n",
    "\n",
    "[Return to top](#Notebook-Contents)"
   ]
  },
  {
   "cell_type": "markdown",
   "id": "aGi0EGNLXvHY",
   "metadata": {
    "id": "aGi0EGNLXvHY",
    "jp-MarkdownHeadingCollapsed": true
   },
   "source": [
    "### Overall Strategy"
   ]
  },
  {
   "cell_type": "markdown",
   "id": "0f71a9c9-03c3-4846-ad5f-aa17b3d18a95",
   "metadata": {},
   "source": [
    "Several of the categorical variables have many categories each that should be easily collapsed to reduce dimensionality:\n",
    "- At the most extreme, the first diagnosis column has 716 codes, only 23 of which represent more than 1% of the observations; similarly for the second and third diagnosis variables. In fact, these diagnosis codes should be grouped into types such as Circulatory (codes 390-459), respiratory (codes 460-519), digestive (520-579), etc.\n",
    "- Admission type code has 8 categories, 3 of which make up less than 1% of observations and can be safely collapsed.\n",
    "- Medical specialty has 72 categories, but only 9 represent more than 1% of the observations.\n",
    "- Age buckets can be consolidated: Currently, each bucket includes only 10 years. Less than 1% of\n",
    "the observations fall into age < 20 and age > 90, for instance.\n",
    "\n",
    "Furthermore, patients who were discharged with codes such as expired, hospice, transferred to another institution as inpatient, etc. should be filtered out as these types of discharge codes are of no practical relevance for predicting the target of early readmission. Trivially, encounter ID and patient ID are mere identifiers and should not be fed into any modeling."
   ]
  },
  {
   "cell_type": "markdown",
   "id": "HxeAw_3CfgxD",
   "metadata": {
    "id": "HxeAw_3CfgxD",
    "jp-MarkdownHeadingCollapsed": true
   },
   "source": [
    "### One-hot encode labels"
   ]
  },
  {
   "cell_type": "markdown",
   "id": "mk3_GxQnZimp",
   "metadata": {
    "id": "mk3_GxQnZimp"
   },
   "source": [
    "**Findings**\n",
    "\n",
    "There are a total of 112,120 unique image filenames in the meta-data."
   ]
  },
  {
   "cell_type": "markdown",
   "id": "K9SvwtD1Z0c-",
   "metadata": {
    "id": "K9SvwtD1Z0c-"
   },
   "source": [
    "**Findings**\n",
    "\n",
    "The majority of patients (\\~54%) have no evidence of disease, while \\~28% have been diagnosed with a single disease, and \\~19% have been diagnosed with multiple diseases."
   ]
  },
  {
   "cell_type": "markdown",
   "id": "wbHx0rpaZ6II",
   "metadata": {
    "id": "wbHx0rpaZ6II"
   },
   "source": [
    "**Findings**\n",
    "\n",
    "While the majority of X-ray images show either no disease finding (\\~60K) or a single disease (\\~30K), there is a long right tail to the distribution. Some images have as many as 9 out of the possible 14 disease labels.\n"
   ]
  },
  {
   "cell_type": "markdown",
   "id": "3q0gv1__Z8U4",
   "metadata": {
    "id": "3q0gv1__Z8U4"
   },
   "source": [
    "**Findings**\n",
    "\n",
    "Occurence differs dramatically among different diseases. Several diseases (e.g., hernia, pneumonia, fibrosis) have only a few hundred occurences in the X-ray images, while others (e.g., infiltration, effusion, atelectasis) have over 10,000 occurences. This means that the data exhibit extreme class imbalance."
   ]
  },
  {
   "cell_type": "markdown",
   "id": "0d4b392e-58b0-453e-ae67-53ff3706f867",
   "metadata": {},
   "source": [
    "<a name=\"2.3.-Data-Partitioning\"></a>\n",
    "## 2.3 Data Partitioning\n",
    "\n",
    "[Return to top](#Notebook-Contents)"
   ]
  },
  {
   "cell_type": "code",
   "execution_count": null,
   "id": "54078a46-e6b3-48cc-a6bc-909fafe3c6ec",
   "metadata": {},
   "outputs": [],
   "source": [
    "X_train, X_test, y_train, y_test = train_test_split(X_df, y_df, train_size=0.8, random_state=109, stratify=y_df)"
   ]
  },
  {
   "cell_type": "markdown",
   "id": "377a59eb-94e2-49ce-8831-d3706a7bd608",
   "metadata": {
    "jp-MarkdownHeadingCollapsed": true
   },
   "source": [
    "<a name=\"2.4.-Exploratory-Data-Analysis-of-Cleaned-Data\"></a>\n",
    "## 2.4 Exploratory Data Analysis of Cleaned Data\n",
    "\n",
    "[Return to top](#Notebook-Contents)"
   ]
  },
  {
   "cell_type": "markdown",
   "id": "63a4b5ab-d233-4491-85ef-cf42fe916ee1",
   "metadata": {
    "id": "id82KxlHfmai",
    "jp-MarkdownHeadingCollapsed": true
   },
   "source": [
    "### Disease occurence"
   ]
  },
  {
   "cell_type": "markdown",
   "id": "3c3c0524-0c32-4fe5-b14a-81e513df4df7",
   "metadata": {
    "id": "7YbF0RI5fvzS",
    "jp-MarkdownHeadingCollapsed": true
   },
   "source": [
    "### Disease distribution"
   ]
  },
  {
   "cell_type": "markdown",
   "id": "8ea24343-9fea-4564-9d6c-a92183e16b21",
   "metadata": {
    "id": "FOoRrPJJf0Kd",
    "jp-MarkdownHeadingCollapsed": true
   },
   "source": [
    "### Commonly occurring diseases"
   ]
  },
  {
   "cell_type": "markdown",
   "id": "321ffdd0-db31-4fb6-a7c0-676940339f1b",
   "metadata": {
    "id": "OK9Di01Yfqqd"
   },
   "source": [
    "### Disease correlations (co-morbidity)"
   ]
  },
  {
   "cell_type": "markdown",
   "id": "771yzHV0Z9L4",
   "metadata": {
    "id": "771yzHV0Z9L4",
    "jp-MarkdownHeadingCollapsed": true
   },
   "source": [
    "<a name=\"2.5.-Summary-of-EDA-Key-Findings\"></a>\n",
    "## 2.5 Summary of EDA Key Findings\n",
    "\n",
    "[Return to top](#Notebook-Contents)"
   ]
  },
  {
   "cell_type": "markdown",
   "id": "a8jhMS7PaD4j",
   "metadata": {
    "id": "a8jhMS7PaD4j"
   },
   "source": [
    "After exploring the image data and the disease class labels, we have identified 5 major issues that will need to be addressed during data pre-processing and analysis.\n",
    "\n",
    "1. Placeholder1\n",
    "2. Placeholder2\n",
    "3. Placeholder2"
   ]
  },
  {
   "cell_type": "markdown",
   "id": "7PvEAoyzKaTV",
   "metadata": {
    "id": "7PvEAoyzKaTV",
    "jp-MarkdownHeadingCollapsed": true
   },
   "source": [
    "<a name=\"3.-Research-Questions\"></a>\n",
    "# 3. Research Questions\n",
    "\n",
    "[Return to top](#Notebook-Contents)"
   ]
  },
  {
   "cell_type": "markdown",
   "id": "LWHhIxQRbIEy",
   "metadata": {
    "id": "LWHhIxQRbIEy"
   },
   "source": [
    "After initial exploration and cleaning of the data, we have focused our efforts on answering the following research questions:\n",
    "\n",
    "1. **How likely are patients to be readmitted to hospital within 30 days of discharge?**\n",
    "\n",
    "2. **What risk factors drive early readmittance (within 30 days of discharge) to hospital?**\n",
    "\n",
    "Answering these questions will help medical personnel prioritize follow-ups and interventions through the creation of patient risk profiles, which can identify patients at the highest risk level for early hospital readmittance. This information is actionable and can be used to mitigate negative health outcomes for these patients as well as increased costs for the hospital and insurance carrier."
   ]
  },
  {
   "cell_type": "markdown",
   "id": "a3ArpOmjDRZn",
   "metadata": {
    "id": "a3ArpOmjDRZn",
    "jp-MarkdownHeadingCollapsed": true
   },
   "source": [
    "<a name=\"3.1.-Raw-Data\"></a>\n",
    "## 3.1 Raw Data\n",
    "\n",
    "[Return to top](#Notebook-Contents)"
   ]
  },
  {
   "cell_type": "markdown",
   "id": "Ahls7odbRlDv",
   "metadata": {
    "id": "Ahls7odbRlDv"
   },
   "source": [
    "Here we load the images from the train, validation, and test sets into 3 separate TF datasets."
   ]
  },
  {
   "cell_type": "markdown",
   "id": "gMx2r3vNlyIi",
   "metadata": {
    "id": "gMx2r3vNlyIi",
    "jp-MarkdownHeadingCollapsed": true
   },
   "source": [
    "<a name=\"3.2.-Training-Data\"></a>\n",
    "## 3.2 Training Data\n",
    "\n",
    "[Return to top](#Notebook-Contents)"
   ]
  },
  {
   "cell_type": "markdown",
   "id": "WC1kWzdlwCo0",
   "metadata": {
    "id": "WC1kWzdlwCo0"
   },
   "source": [
    "### Select one-hot encoded labels for train, validation, and test sets"
   ]
  },
  {
   "cell_type": "markdown",
   "id": "U8tu5fl8Vinl",
   "metadata": {
    "id": "U8tu5fl8Vinl"
   },
   "source": [
    "Here we subset the one-hot encoded labels into the same train, validation, and test sets as the images, using the image filenames as an index."
   ]
  },
  {
   "cell_type": "code",
   "execution_count": null,
   "id": "26Hm6oTJ1IB1",
   "metadata": {
    "colab": {
     "base_uri": "https://localhost:8080/"
    },
    "id": "26Hm6oTJ1IB1",
    "outputId": "44eee496-cb8e-448f-bdd8-de3313b6b8f7"
   },
   "outputs": [],
   "source": []
  },
  {
   "cell_type": "markdown",
   "id": "6Ab1GYCWlcE_",
   "metadata": {
    "id": "6Ab1GYCWlcE_"
   },
   "source": [
    "### Load one-hot encoded labels into TF datasets"
   ]
  },
  {
   "cell_type": "markdown",
   "id": "jY1PCmFOV7M_",
   "metadata": {
    "id": "jY1PCmFOV7M_"
   },
   "source": [
    "Here we load the partitioned one-hot encoded label data into 3 TF datasets."
   ]
  },
  {
   "cell_type": "code",
   "execution_count": null,
   "id": "94kqg4xT1kV2",
   "metadata": {
    "colab": {
     "base_uri": "https://localhost:8080/"
    },
    "id": "94kqg4xT1kV2",
    "outputId": "72eca71e-bb8a-4703-af37-86113a39ceee"
   },
   "outputs": [],
   "source": []
  },
  {
   "cell_type": "markdown",
   "id": "LGosJaq5l3PC",
   "metadata": {
    "id": "LGosJaq5l3PC",
    "jp-MarkdownHeadingCollapsed": true
   },
   "source": [
    "<a name=\"3.3.-Testing-Data\"></a>\n",
    "## 3.3 Testing Data\n",
    "\n",
    "[Return to top](#Notebook-Contents)"
   ]
  },
  {
   "cell_type": "markdown",
   "id": "jatOAfx11ax9",
   "metadata": {
    "id": "jatOAfx11ax9"
   },
   "source": [
    "### Combine images and labels"
   ]
  },
  {
   "cell_type": "markdown",
   "id": "ggXvN9HIWFQp",
   "metadata": {
    "id": "ggXvN9HIWFQp"
   },
   "source": [
    "Here we combine the image and label TF datasets, by zipping them together to form 3 new TF datasets with both image and label information."
   ]
  },
  {
   "cell_type": "code",
   "execution_count": null,
   "id": "XLp6ptSb1ZDv",
   "metadata": {
    "colab": {
     "base_uri": "https://localhost:8080/"
    },
    "id": "XLp6ptSb1ZDv",
    "outputId": "427de30c-9f8d-4cd0-fcf4-51fee8787d43"
   },
   "outputs": [],
   "source": []
  },
  {
   "cell_type": "markdown",
   "id": "ymeShx6UwUcr",
   "metadata": {
    "id": "ymeShx6UwUcr"
   },
   "source": [
    "### Batching & prefetching"
   ]
  },
  {
   "cell_type": "markdown",
   "id": "0m_sNkHeWg90",
   "metadata": {
    "id": "0m_sNkHeWg90"
   },
   "source": [
    "Here we set up the batched TF datasets with prefetching that is autotuned. We used fairly small batch sizes to reduce memory demands and allow us to train more complex models with a larger sample of data. We shuffled the data for the training set to prevent the model from learning image order information, but not the validation or test sets. "
   ]
  },
  {
   "cell_type": "code",
   "execution_count": null,
   "id": "4314f1ef-ac95-4271-8e5f-852ac51319cb",
   "metadata": {
    "colab": {
     "base_uri": "https://localhost:8080/"
    },
    "id": "4314f1ef-ac95-4271-8e5f-852ac51319cb",
    "outputId": "25b1217f-0fe7-43d5-be9d-0b703e9bb686"
   },
   "outputs": [],
   "source": []
  },
  {
   "cell_type": "markdown",
   "id": "gqCxFvbTwZxy",
   "metadata": {
    "id": "gqCxFvbTwZxy"
   },
   "source": [
    "<a name=\"4.-Modeling-Pipeline-and-Training\"></a>\n",
    "# 4. Modeling Pipeline and Training\n",
    "\n",
    "[Return to top](#Notebook-Contents)"
   ]
  },
  {
   "cell_type": "markdown",
   "id": "4c28175d-6c62-4026-a82e-a36567ffa6af",
   "metadata": {
    "jp-MarkdownHeadingCollapsed": true
   },
   "source": [
    "<a name=\"4.1.-Candidate-Models\"></a>\n",
    "## 4.1 Candidate Models\n",
    "\n",
    "[Return to top](#Notebook-Contents)"
   ]
  },
  {
   "cell_type": "markdown",
   "id": "ba371b9a-554e-4b1d-aa11-015543ba21a3",
   "metadata": {},
   "source": [
    "We have four candidate models:\n",
    "\n",
    "1. Logistic regression with L1 regularization\n",
    "2. Single Decision Tree\n",
    "3. Random Forest\n",
    "4. Extreme Gradient Boosting"
   ]
  },
  {
   "cell_type": "markdown",
   "id": "-mNiZYErwdXr",
   "metadata": {
    "id": "-mNiZYErwdXr"
   },
   "source": [
    "<a name=\"4.2.-Hyperparamter-Tuning-Settings\"></a>\n",
    "## 4.2 Hyperparameter Tuning Settings\n",
    "\n",
    "[Return to top](#Notebook-Contents)"
   ]
  },
  {
   "cell_type": "markdown",
   "id": "hPwMV4lFC3_Y",
   "metadata": {
    "id": "hPwMV4lFC3_Y",
    "jp-MarkdownHeadingCollapsed": true
   },
   "source": [
    "<a name=\"4.3.-Performance-Metrics\"></a>\n",
    "## 4.3 Performance Metrics\n",
    "\n",
    "[Return to top](#Notebook-Contents)"
   ]
  },
  {
   "cell_type": "markdown",
   "id": "4f86d622-0544-4258-bb80-850ce073a696",
   "metadata": {},
   "source": [
    "We generate predicted probabilities of class membership for all 14 diseases and the 'no finding' class on the test set. We then calculate the following metrics:\n",
    "1. Accuracy\n",
    "2. Prevalence  \n",
    "3. Sensitivity\n",
    "4. Specificity\n",
    "5. Positive Predictive Value      \n",
    "6. Negative Predictive Value  \n",
    "7. Area Under ROC \n",
    "8. AP Score  \n",
    "9. F1 Score\n",
    "\n",
    "Among these metrics, only Area Under ROC, AP Score, and F1 Score, do not depend on the choice of a threshold. Also, Accuracy, Prevalence, Positive Predictive Value, and Negative Predictive Value are not appropriate for evaluating class imbalance dataset, while Sensitivity, Specificity, Area Under ROC, AP Score, and F1 Score are less sensitive to class imbalance. Therefore, we have focused more on the metrics of Area Under ROC, AP Score, and F1 Score, since they are not subject to the arbitrary choice of a threshold value and are more informative performance metrics when significant class imbalance is present in the data."
   ]
  },
  {
   "cell_type": "markdown",
   "id": "8de45f1e-eb46-498d-b45b-e9115d98e540",
   "metadata": {},
   "source": [
    "<a name=\"4.4.-Resampling-Scheme\"></a>\n",
    "## 4.4 Resampling Scheme\n",
    "\n",
    "[Return to top](#Notebook-Contents)"
   ]
  },
  {
   "cell_type": "markdown",
   "id": "9f69457f-39b8-4b2a-bf95-3525672c7ec4",
   "metadata": {},
   "source": [
    "Repeated $k$-fold CV."
   ]
  },
  {
   "cell_type": "markdown",
   "id": "HHEAeTmRFV0I",
   "metadata": {
    "id": "HHEAeTmRFV0I"
   },
   "source": [
    "<a name=\"4.5.-Model-Training\"></a>\n",
    "## 4.5 Model Training\n",
    "\n",
    "[Return to top](#Notebook-Contents)"
   ]
  },
  {
   "cell_type": "code",
   "execution_count": 2,
   "id": "cf35dc03-adec-4f80-941a-6307105e04cd",
   "metadata": {},
   "outputs": [],
   "source": [
    "##### TEST ######\n",
    "from sklearn import datasets\n",
    "\n",
    "random_state = 416\n",
    "# Create dataset for binary classification with 5 predictors\n",
    "X, y = datasets.make_classification(n_samples=1000,\n",
    "                                    n_features=5,\n",
    "                                    n_informative=3,\n",
    "                                    n_redundant=2,\n",
    "                                    random_state=random_state)\n",
    "\n",
    "# Split into training and test\n",
    "X_train, X_test, y_train, y_test = train_test_split(X, y,\n",
    "                                                    test_size=.4,\n",
    "                                                    random_state=random_state)\n",
    "\n",
    "# Create classifier using logistic regression\n",
    "clf = LogisticRegression(random_state=random_state)\n",
    "clf.fit(X_train, y_train)\n",
    "\n",
    "# Get the predicited probability of testing data\n",
    "y_score = clf.predict_proba(X_test)[:, 1]"
   ]
  },
  {
   "cell_type": "code",
   "execution_count": 4,
   "id": "37306a7d-d029-4588-9b6e-7efa09a55cd4",
   "metadata": {},
   "outputs": [
    {
     "data": {
      "text/html": [
       "<div>\n",
       "<style scoped>\n",
       "    .dataframe tbody tr th:only-of-type {\n",
       "        vertical-align: middle;\n",
       "    }\n",
       "\n",
       "    .dataframe tbody tr th {\n",
       "        vertical-align: top;\n",
       "    }\n",
       "\n",
       "    .dataframe thead th {\n",
       "        text-align: right;\n",
       "    }\n",
       "</style>\n",
       "<table border=\"1\" class=\"dataframe\">\n",
       "  <thead>\n",
       "    <tr style=\"text-align: right;\">\n",
       "      <th></th>\n",
       "      <th>model</th>\n",
       "      <th>train_AUC-ROC</th>\n",
       "      <th>train_AUC-PR</th>\n",
       "      <th>train_precision</th>\n",
       "      <th>train_recall_sensitivity</th>\n",
       "      <th>train_specificity</th>\n",
       "      <th>train_F1</th>\n",
       "      <th>test_AUC-ROC</th>\n",
       "      <th>test_AUC-PR</th>\n",
       "      <th>test_precision</th>\n",
       "      <th>test_recall_sensitivity</th>\n",
       "      <th>test_specificity</th>\n",
       "      <th>test_F1</th>\n",
       "    </tr>\n",
       "  </thead>\n",
       "  <tbody>\n",
       "    <tr>\n",
       "      <th>0</th>\n",
       "      <td>Logistic Regression</td>\n",
       "      <td>0.862</td>\n",
       "      <td>0.867</td>\n",
       "      <td>0.789</td>\n",
       "      <td>0.8</td>\n",
       "      <td>0.8</td>\n",
       "      <td>0.795</td>\n",
       "      <td>0.895</td>\n",
       "      <td>0.906</td>\n",
       "      <td>0.854</td>\n",
       "      <td>0.834</td>\n",
       "      <td>0.841</td>\n",
       "      <td>0.844</td>\n",
       "    </tr>\n",
       "  </tbody>\n",
       "</table>\n",
       "</div>"
      ],
      "text/plain": [
       "                 model  train_AUC-ROC  train_AUC-PR  train_precision  \\\n",
       "0  Logistic Regression          0.862         0.867            0.789   \n",
       "\n",
       "   train_recall_sensitivity  train_specificity  train_F1  test_AUC-ROC  \\\n",
       "0                       0.8                0.8     0.795         0.895   \n",
       "\n",
       "   test_AUC-PR  test_precision  test_recall_sensitivity  test_specificity  \\\n",
       "0        0.906           0.854                    0.834             0.841   \n",
       "\n",
       "   test_F1  \n",
       "0    0.844  "
      ]
     },
     "execution_count": 4,
     "metadata": {},
     "output_type": "execute_result"
    }
   ],
   "source": [
    "# save metrics for clf\n",
    "data = (X_train, X_test, y_train, y_test)\n",
    "results = [get_performance_metrics(clf, 'Logistic Regression', data)]\n",
    "pd.DataFrame(results)"
   ]
  },
  {
   "cell_type": "code",
   "execution_count": null,
   "id": "d8b334a5-94dd-4d46-8b82-b733f0669357",
   "metadata": {},
   "outputs": [],
   "source": [
    "# create 2-way interaction terms (and keep original features)\n",
    "poly = PolynomialFeatures(degree=2, interaction_only=True, include_bias=False)\n",
    "\n",
    "# fit and transform the features matrix to get the interaction terms\n",
    "X_train_2way_interactions = poly.fit_transform(X_train[predictors_important])\n",
    "X_test_2way_interactions = poly.transform(X_test[predictors_important])\n",
    "\n",
    "# C values to try\n",
    "Cs = [1e-4, 1e-3, 1e-2, 1e-1, 1e0, 1e1, 1e2, 1e3, 1e4]\n",
    "\n",
    "# logistic regression model with L1 penalty and 10-fold CV\n",
    "lasso_interact = LogisticRegressionCV(\n",
    "    Cs=Cs, cv=10, penalty='l1', solver='liblinear', \n",
    "    scoring='accuracy', max_iter=1000, random_state=109\n",
    ").fit(X_train_2way_interactions, y_train)\n",
    "\n",
    "# compute classification accuracy for training and test sets\n",
    "lasso_interact_train_acc = lasso_interact.score(X_train_2way_interactions, y_train)\n",
    "lasso_interact_test_acc = lasso_interact.score(X_test_2way_interactions, y_test)"
   ]
  },
  {
   "cell_type": "markdown",
   "id": "fpaswuaRzQr-",
   "metadata": {
    "id": "fpaswuaRzQr-"
   },
   "source": [
    "<a name=\"5.-Model-Selection-and-Evaluation\"></a>\n",
    "# 5. Model Selection and Evaluation\n",
    "\n",
    "[Return to top](#Notebook-Contents)"
   ]
  },
  {
   "cell_type": "markdown",
   "id": "19cH0u3yxItM",
   "metadata": {
    "id": "19cH0u3yxItM"
   },
   "source": [
    "<a name=\"5.1.-Model-Selection\"></a>\n",
    "## 5.1 Model Selection\n",
    "\n",
    "[Return to top](#Notebook-Contents)"
   ]
  },
  {
   "cell_type": "code",
   "execution_count": 5,
   "id": "21b55958-9992-4f12-a667-5cad121db885",
   "metadata": {},
   "outputs": [
    {
     "data": {
      "image/png": "[encoded data removed]",
      "text/plain": [
       "<Figure size 800x550 with 1 Axes>"
      ]
     },
     "metadata": {},
     "output_type": "display_data"
    }
   ],
   "source": [
    "# ROC Curve\n",
    "RocCurveDisplay.from_estimator(clf, X_test, y_test);"
   ]
  },
  {
   "cell_type": "code",
   "execution_count": 6,
   "id": "76f3c900-133e-4b91-ac75-18e1ce550173",
   "metadata": {},
   "outputs": [
    {
     "data": {
      "image/png": "[encoded data removed]",
      "text/plain": [
       "<Figure size 800x550 with 1 Axes>"
      ]
     },
     "metadata": {},
     "output_type": "display_data"
    }
   ],
   "source": [
    "# Precision Recall Curve\n",
    "PrecisionRecallDisplay.from_estimator(clf, X_test, y_test);"
   ]
  },
  {
   "cell_type": "markdown",
   "id": "HCIrjzjtxM2I",
   "metadata": {
    "id": "HCIrjzjtxM2I",
    "jp-MarkdownHeadingCollapsed": true
   },
   "source": [
    "<a name=\"5.2.-Best-Model-Performance\"></a>\n",
    "## 5.2 Best Model Performance\n",
    "\n",
    "[Return to top](#Notebook-Contents)"
   ]
  },
  {
   "cell_type": "code",
   "execution_count": null,
   "id": "aKBSV9Pc1LaL",
   "metadata": {
    "colab": {
     "base_uri": "https://localhost:8080/",
     "height": 734
    },
    "id": "aKBSV9Pc1LaL",
    "outputId": "21c0200d-c139-4079-bc83-3d47a0bf9f80"
   },
   "outputs": [],
   "source": []
  },
  {
   "cell_type": "markdown",
   "id": "36b17a01-1424-4ae6-9cba-5cba006346d6",
   "metadata": {
    "jp-MarkdownHeadingCollapsed": true
   },
   "source": [
    "<a name=\"5.3.-Variable-Importance\"></a>\n",
    "## 5.3 Variable Importance\n",
    "\n",
    "[Return to top](#Notebook-Contents)"
   ]
  },
  {
   "cell_type": "code",
   "execution_count": null,
   "id": "b660c993-7192-4a8e-89e2-34b2f15a4f85",
   "metadata": {},
   "outputs": [],
   "source": []
  },
  {
   "cell_type": "markdown",
   "id": "F5K6XiVPMwGK",
   "metadata": {
    "id": "F5K6XiVPMwGK",
    "jp-MarkdownHeadingCollapsed": true
   },
   "source": [
    "<a name=\"6.-Conclusions\"></a>\n",
    "# 6. Conclusions\n",
    "\n",
    "[Return to top](#Notebook-Contents)"
   ]
  },
  {
   "cell_type": "markdown",
   "id": "A3j6FUJ5UurJ",
   "metadata": {
    "id": "A3j6FUJ5UurJ"
   },
   "source": [
    "We found this project to be both interesting and quite challenging. Blah blah blah.\n",
    "\n",
    "Perhaps the three most perplexing issues we encountered were:\n",
    "\n",
    "1. placeholder1 \n",
    "\n",
    "2. placeholder2\n",
    "\n",
    "3. placeholder3"
   ]
  },
  {
   "cell_type": "markdown",
   "id": "00f22514-5851-41d7-b76f-fe8f31aa9b86",
   "metadata": {},
   "source": [
    "<a name=\"6.1.-Patient-Early-Readmittance-Rate\"></a>\n",
    "## 6.1 Patient Early Readmittance Rate\n",
    "\n",
    "[Return to top](#Notebook-Contents)"
   ]
  },
  {
   "cell_type": "markdown",
   "id": "e20ff102-2c83-4689-a739-17b2c91b7404",
   "metadata": {},
   "source": [
    "<a name=\"6.2.-Patient-Risk-Profiles\"></a>\n",
    "## 6.2 Patient Risk Profiles\n",
    "\n",
    "[Return to top](#Notebook-Contents)"
   ]
  },
  {
   "cell_type": "markdown",
   "id": "tBzglpfuMzCx",
   "metadata": {
    "id": "tBzglpfuMzCx",
    "jp-MarkdownHeadingCollapsed": true
   },
   "source": [
    "<a name=\"7.-Future-Work\"></a>\n",
    "# 7. Future Work\n",
    "\n",
    "[Return to top](#Notebook-Contents)"
   ]
  },
  {
   "cell_type": "markdown",
   "id": "b3y_O1P60Y0N",
   "metadata": {
    "id": "b3y_O1P60Y0N"
   },
   "source": [
    "In our analysis of the Chest X-ray dataset we have tried a variety of modeling and feature engineering approaches, but there are still several additional steps that could be taken:\n",
    "\n",
    "1. placeholder1\n",
    "\n",
    "2. placeholder2\n",
    "\n",
    "3. placeholder2"
   ]
  },
  {
   "cell_type": "markdown",
   "id": "JIM0q5KDxhvF",
   "metadata": {
    "id": "JIM0q5KDxhvF",
    "jp-MarkdownHeadingCollapsed": true
   },
   "source": [
    "<a name=\"8.-References\"></a>\n",
    "# 8. References\n",
    "\n",
    "[Return to top](#Notebook-Contents)"
   ]
  },
  {
   "cell_type": "markdown",
   "id": "iFVg1gboxmA6",
   "metadata": {
    "id": "iFVg1gboxmA6"
   },
   "source": [
    "**The following are links to papers, blogs, and tutorials we found useful during the development of this project:**\n",
    "\n",
    "Fine-tuning for transfer learning models:\n",
    "https://keras.io/guides/transfer_learning/\n",
    "\n",
    "Medical neural networks:\n",
    "https://glassboxmedicine.com/\n",
    "\n",
    "Image classification using CNNs:\n",
    "https://towardsdatascience.com/medical-x-ray-%EF%B8%8F-image-classification-using-convolutional-neural-network-9a6d33b1c2a\n",
    "\n",
    "Comparison of ResNet50 and VGG19 and training from stratch for X-ray images dataset:\n",
    "https://www.sciencedirect.com/science/article/pii/S2666285X21000558\n",
    "\n",
    "Tensorflow Applications for base model:\n",
    "https://keras.io/api/applications/\n",
    "\n",
    "Tensorboard confusion matrix:\n",
    "https://towardsdatascience.com/exploring-confusion-matrix-evolution-on-tensorboard-e66b39f4ac12\n",
    "\n",
    "Pre-processing and modeling pipelines (ResNet50):\n",
    "https://towardsdatascience.com/time-to-choose-tensorflow-data-over-imagedatagenerator-215e594f2435\n",
    "\n",
    "Image data input pipelines:\n",
    "https://towardsdatascience.com/what-is-the-best-input-pipeline-to-train-image-classification-models-with-tf-keras-eb3fe26d3cc5\n",
    "\n",
    "Split TF datasets:\n",
    "https://towardsdatascience.com/how-to-split-a-tensorflow-dataset-into-train-validation-and-test-sets-526c8dd29438\n",
    "\n",
    "Transfer learning with EfficientNet:\n",
    "https://keras.io/examples/vision/image_classification_efficientnet_fine_tuning/\n",
    "\n",
    "Training greyscale images using transfer learning:\n",
    "https://stackoverflow.com/questions/51995977/how-can-i-use-a-pre-trained-neural-network-with-grayscale-images\n",
    "\n",
    "Multi-label vs multi-class classification:\n",
    "https://glassboxmedicine.com/2019/05/26/classification-sigmoid-vs-softmax/\n",
    "\n",
    "Multi-label classification example use-case:\n",
    "https://towardsdatascience.com/fast-ai-season-1-episode-3-a-case-of-multi-label-classification-a4a90672a889\n",
    "\n",
    "Element-wise sigmoid:\n",
    "https://www.programcreek.com/python/example/93769/keras.backend.sigmoid\n",
    "\n",
    "Element-wise sigmoid:\n",
    "https://stackoverflow.com/questions/52090857/how-to-apply-sigmoid-function-for-each-outputs-in-keras\n",
    "\n",
    "DenseNet121:\n",
    "https://www.ncbi.nlm.nih.gov/pmc/articles/PMC8189817/"
   ]
  }
 ],
 "metadata": {
  "accelerator": "GPU",
  "colab": {
   "background_execution": "on",
   "collapsed_sections": [],
   "machine_shape": "hm",
   "name": "final_report.ipynb",
   "provenance": []
  },
  "kernelspec": {
   "display_name": "Python 3 (ipykernel)",
   "language": "python",
   "name": "python3"
  },
  "language_info": {
   "codemirror_mode": {
    "name": "ipython",
    "version": 3
   },
   "file_extension": ".py",
   "mimetype": "text/x-python",
   "name": "python",
   "nbconvert_exporter": "python",
   "pygments_lexer": "ipython3",
   "version": "3.11.5"
  }
 },
 "nbformat": 4,
 "nbformat_minor": 5
}
