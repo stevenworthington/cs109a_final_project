{
 "cells": [
  {
   "cell_type": "code",
   "execution_count": null,
   "metadata": {},
   "outputs": [],
   "source": []
  },
  {
   "cell_type": "code",
   "execution_count": null,
   "metadata": {},
   "outputs": [],
   "source": [
    "import matplotlib.pyplot as plt\n",
    "import seaborn as sns\n",
    "\n",
    "# Calculate counts\n",
    "value_counts = df['readmitted'].value_counts()\n",
    "\n",
    "# Calculate proportions\n",
    "proportions = df['readmitted'].value_counts(normalize=True) * 100\n",
    "\n",
    "# Create a DataFrame from the counts and proportions\n",
    "data_to_plot = pd.DataFrame({'Counts': value_counts, 'Proportions': proportions})\n",
    "\n",
    "# Plot a bar graph using the counts\n",
    "plt.figure(figsize=(10, 6))\n",
    "\n",
    "# Create a bar plot for the counts\n",
    "count_plot = sns.barplot(x=data_to_plot.index, y=data_to_plot['Counts'])\n",
    "\n",
    "# Annotate each bar with the count value\n",
    "for index, value in enumerate(data_to_plot['Counts']):\n",
    "    count_plot.text(index, value, f'{value}', color='black', ha=\"center\")\n",
    "\n",
    "plt.title('Counts of Readmissions')\n",
    "plt.xlabel('Readmitted')\n",
    "plt.ylabel('Counts')\n",
    "plt.show()\n",
    "\n",
    "# Plot a bar graph using the proportions\n",
    "plt.figure(figsize=(10, 6))\n",
    "\n",
    "# Create a bar plot for the proportions\n",
    "prop_plot = sns.barplot(x=data_to_plot.index, y=data_to_plot['Proportions'])\n",
    "\n",
    "# Annotate each bar with the proportion value\n",
    "for index, value in enumerate(data_to_plot['Proportions']):\n",
    "    prop_plot.text(index, value, f'{value:.2f}%', color='black', ha=\"center\")\n",
    "\n",
    "plt.title('Proportions of Readmissions')\n",
    "plt.xlabel('Readmitted')\n",
    "plt.ylabel('Proportion (%)')\n",
    "plt.show()\n"
   ]
  }
 ],
 "metadata": {
  "language_info": {
   "name": "python"
  },
  "orig_nbformat": 4
 },
 "nbformat": 4,
 "nbformat_minor": 2
}
