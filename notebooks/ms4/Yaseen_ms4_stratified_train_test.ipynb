{
 "cells": [
  {
   "cell_type": "markdown",
   "metadata": {},
   "source": [
    "## Train Test split\n",
    "\n",
    "The code snippet provided is designed to divide our dataset into training and testing subsets. Our dataset has an imbalanced 'y' variable. To address this, we employ a stratified splitting approach. This ensures that the proportion of the positive class in both the training and testing sets remains consistent.\n",
    "\n",
    "### Key Arguments for the Splitting Process:\n",
    "\n",
    "1. The random state is fixed at 42. This is a deliberate choice to guarantee that our results can be consistently replicated.\n",
    "2. The size of the test subset is established at 10%.\n",
    "\n",
    "### Post-Split Evaluations:\n",
    "\n",
    "1. We rigorously confirm that the split is indeed stratified, maintaining the proportional representation of each class.\n",
    "2. Although not detailed in this notebook, we have conducted additional checks to verify that both the training and testing sets contain comparable representations of patients categorized by the number of visits (specifically, those with a single visit compared to those with multiple visits).\n"
   ]
  },
  {
   "cell_type": "code",
   "execution_count": 44,
   "metadata": {},
   "outputs": [],
   "source": [
    "import numpy as np\n",
    "import pandas as pd\n",
    "%matplotlib inline\n",
    "import matplotlib.pyplot as plt\n",
    "import seaborn as sns   "
   ]
  },
  {
   "cell_type": "code",
   "execution_count": 10,
   "metadata": {},
   "outputs": [],
   "source": [
    "processed_data=pd.read_csv('../data/diabetic_data_processed.csv', \n",
    "                            na_values='?',\n",
    "                            low_memory=False #silence the mixed dtypes warning\n",
    "                           )"
   ]
  },
  {
   "cell_type": "code",
   "execution_count": 13,
   "metadata": {},
   "outputs": [],
   "source": [
    "def stratify_split(dataframe):\n",
    "    df=dataframe\n",
    "    print('before splitting the class percentage in our dataset is : ',  round(df['readmitted'].sum()/len(df['readmitted']), 4))\n",
    "\n",
    "    y = processed_data['readmitted']\n",
    "    X= processed_data.drop(columns=['readmitted'])\n",
    "    from sklearn.model_selection import train_test_split\n",
    "    X_train, X_test, y_train, y_test = train_test_split(X, y,\n",
    "                                                        stratify=y, \n",
    "                                                        test_size=0.10, \n",
    "                                                        random_state=42)\n",
    "    \n",
    "    print(' After splitting in train and test class percentage in test: ', round(y_test.sum()/len(y_test),4), ' and class percentage in train is: ', round(y_train.sum()/len(y_train),4))\n",
    "\n",
    "    return X_train, X_test, y_train, y_test\n",
    "\n",
    "    \n",
    "\n"
   ]
  },
  {
   "cell_type": "code",
   "execution_count": null,
   "metadata": {},
   "outputs": [],
   "source": [
    "X_train, X_test, y_train, y_test=stratify_split(processed_data)"
   ]
  }
 ],
 "metadata": {
  "kernelspec": {
   "display_name": "cs109a",
   "language": "python",
   "name": "python3"
  },
  "language_info": {
   "codemirror_mode": {
    "name": "ipython",
    "version": 3
   },
   "file_extension": ".py",
   "mimetype": "text/x-python",
   "name": "python",
   "nbconvert_exporter": "python",
   "pygments_lexer": "ipython3",
   "version": "3.11.5"
  },
  "orig_nbformat": 4
 },
 "nbformat": 4,
 "nbformat_minor": 2
}
