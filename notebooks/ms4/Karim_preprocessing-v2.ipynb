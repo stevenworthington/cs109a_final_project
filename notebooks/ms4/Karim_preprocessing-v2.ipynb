{
 "cells": [
  {
   "cell_type": "code",
   "execution_count": 96,
   "id": "2705490f-a7cd-4274-aae1-42b2de29d963",
   "metadata": {
    "tags": []
   },
   "outputs": [],
   "source": [
    "import numpy as np\n",
    "import pandas as pd"
   ]
  },
  {
   "cell_type": "code",
   "execution_count": 97,
   "id": "dffb4812-157f-42f7-a937-2d85724efb77",
   "metadata": {
    "tags": []
   },
   "outputs": [
    {
     "data": {
      "text/html": [
       "<div>\n",
       "<style scoped>\n",
       "    .dataframe tbody tr th:only-of-type {\n",
       "        vertical-align: middle;\n",
       "    }\n",
       "\n",
       "    .dataframe tbody tr th {\n",
       "        vertical-align: top;\n",
       "    }\n",
       "\n",
       "    .dataframe thead th {\n",
       "        text-align: right;\n",
       "    }\n",
       "</style>\n",
       "<table border=\"1\" class=\"dataframe\">\n",
       "  <thead>\n",
       "    <tr style=\"text-align: right;\">\n",
       "      <th></th>\n",
       "      <th>encounter_id</th>\n",
       "      <th>patient_nbr</th>\n",
       "      <th>race</th>\n",
       "      <th>gender</th>\n",
       "      <th>age</th>\n",
       "      <th>weight</th>\n",
       "      <th>admission_type_id</th>\n",
       "      <th>discharge_disposition_id</th>\n",
       "      <th>admission_source_id</th>\n",
       "      <th>time_in_hospital</th>\n",
       "      <th>...</th>\n",
       "      <th>citoglipton</th>\n",
       "      <th>insulin</th>\n",
       "      <th>glyburide-metformin</th>\n",
       "      <th>glipizide-metformin</th>\n",
       "      <th>glimepiride-pioglitazone</th>\n",
       "      <th>metformin-rosiglitazone</th>\n",
       "      <th>metformin-pioglitazone</th>\n",
       "      <th>change</th>\n",
       "      <th>diabetesMed</th>\n",
       "      <th>readmitted</th>\n",
       "    </tr>\n",
       "  </thead>\n",
       "  <tbody>\n",
       "    <tr>\n",
       "      <th>0</th>\n",
       "      <td>2278392</td>\n",
       "      <td>8222157</td>\n",
       "      <td>Caucasian</td>\n",
       "      <td>Female</td>\n",
       "      <td>[0-10)</td>\n",
       "      <td>NaN</td>\n",
       "      <td>6</td>\n",
       "      <td>25</td>\n",
       "      <td>1</td>\n",
       "      <td>1</td>\n",
       "      <td>...</td>\n",
       "      <td>No</td>\n",
       "      <td>No</td>\n",
       "      <td>No</td>\n",
       "      <td>No</td>\n",
       "      <td>No</td>\n",
       "      <td>No</td>\n",
       "      <td>No</td>\n",
       "      <td>No</td>\n",
       "      <td>No</td>\n",
       "      <td>NO</td>\n",
       "    </tr>\n",
       "    <tr>\n",
       "      <th>1</th>\n",
       "      <td>149190</td>\n",
       "      <td>55629189</td>\n",
       "      <td>Caucasian</td>\n",
       "      <td>Female</td>\n",
       "      <td>[10-20)</td>\n",
       "      <td>NaN</td>\n",
       "      <td>1</td>\n",
       "      <td>1</td>\n",
       "      <td>7</td>\n",
       "      <td>3</td>\n",
       "      <td>...</td>\n",
       "      <td>No</td>\n",
       "      <td>Up</td>\n",
       "      <td>No</td>\n",
       "      <td>No</td>\n",
       "      <td>No</td>\n",
       "      <td>No</td>\n",
       "      <td>No</td>\n",
       "      <td>Ch</td>\n",
       "      <td>Yes</td>\n",
       "      <td>&gt;30</td>\n",
       "    </tr>\n",
       "    <tr>\n",
       "      <th>2</th>\n",
       "      <td>64410</td>\n",
       "      <td>86047875</td>\n",
       "      <td>AfricanAmerican</td>\n",
       "      <td>Female</td>\n",
       "      <td>[20-30)</td>\n",
       "      <td>NaN</td>\n",
       "      <td>1</td>\n",
       "      <td>1</td>\n",
       "      <td>7</td>\n",
       "      <td>2</td>\n",
       "      <td>...</td>\n",
       "      <td>No</td>\n",
       "      <td>No</td>\n",
       "      <td>No</td>\n",
       "      <td>No</td>\n",
       "      <td>No</td>\n",
       "      <td>No</td>\n",
       "      <td>No</td>\n",
       "      <td>No</td>\n",
       "      <td>Yes</td>\n",
       "      <td>NO</td>\n",
       "    </tr>\n",
       "    <tr>\n",
       "      <th>3</th>\n",
       "      <td>500364</td>\n",
       "      <td>82442376</td>\n",
       "      <td>Caucasian</td>\n",
       "      <td>Male</td>\n",
       "      <td>[30-40)</td>\n",
       "      <td>NaN</td>\n",
       "      <td>1</td>\n",
       "      <td>1</td>\n",
       "      <td>7</td>\n",
       "      <td>2</td>\n",
       "      <td>...</td>\n",
       "      <td>No</td>\n",
       "      <td>Up</td>\n",
       "      <td>No</td>\n",
       "      <td>No</td>\n",
       "      <td>No</td>\n",
       "      <td>No</td>\n",
       "      <td>No</td>\n",
       "      <td>Ch</td>\n",
       "      <td>Yes</td>\n",
       "      <td>NO</td>\n",
       "    </tr>\n",
       "    <tr>\n",
       "      <th>4</th>\n",
       "      <td>16680</td>\n",
       "      <td>42519267</td>\n",
       "      <td>Caucasian</td>\n",
       "      <td>Male</td>\n",
       "      <td>[40-50)</td>\n",
       "      <td>NaN</td>\n",
       "      <td>1</td>\n",
       "      <td>1</td>\n",
       "      <td>7</td>\n",
       "      <td>1</td>\n",
       "      <td>...</td>\n",
       "      <td>No</td>\n",
       "      <td>Steady</td>\n",
       "      <td>No</td>\n",
       "      <td>No</td>\n",
       "      <td>No</td>\n",
       "      <td>No</td>\n",
       "      <td>No</td>\n",
       "      <td>Ch</td>\n",
       "      <td>Yes</td>\n",
       "      <td>NO</td>\n",
       "    </tr>\n",
       "  </tbody>\n",
       "</table>\n",
       "<p>5 rows × 50 columns</p>\n",
       "</div>"
      ],
      "text/plain": [
       "   encounter_id  patient_nbr             race  gender      age weight   \n",
       "0       2278392      8222157        Caucasian  Female   [0-10)    NaN  \\\n",
       "1        149190     55629189        Caucasian  Female  [10-20)    NaN   \n",
       "2         64410     86047875  AfricanAmerican  Female  [20-30)    NaN   \n",
       "3        500364     82442376        Caucasian    Male  [30-40)    NaN   \n",
       "4         16680     42519267        Caucasian    Male  [40-50)    NaN   \n",
       "\n",
       "   admission_type_id  discharge_disposition_id  admission_source_id   \n",
       "0                  6                        25                    1  \\\n",
       "1                  1                         1                    7   \n",
       "2                  1                         1                    7   \n",
       "3                  1                         1                    7   \n",
       "4                  1                         1                    7   \n",
       "\n",
       "   time_in_hospital  ... citoglipton insulin  glyburide-metformin   \n",
       "0                 1  ...          No      No                   No  \\\n",
       "1                 3  ...          No      Up                   No   \n",
       "2                 2  ...          No      No                   No   \n",
       "3                 2  ...          No      Up                   No   \n",
       "4                 1  ...          No  Steady                   No   \n",
       "\n",
       "   glipizide-metformin  glimepiride-pioglitazone  metformin-rosiglitazone   \n",
       "0                   No                        No                       No  \\\n",
       "1                   No                        No                       No   \n",
       "2                   No                        No                       No   \n",
       "3                   No                        No                       No   \n",
       "4                   No                        No                       No   \n",
       "\n",
       "   metformin-pioglitazone  change diabetesMed readmitted  \n",
       "0                      No      No          No         NO  \n",
       "1                      No      Ch         Yes        >30  \n",
       "2                      No      No         Yes         NO  \n",
       "3                      No      Ch         Yes         NO  \n",
       "4                      No      Ch         Yes         NO  \n",
       "\n",
       "[5 rows x 50 columns]"
      ]
     },
     "execution_count": 97,
     "metadata": {},
     "output_type": "execute_result"
    }
   ],
   "source": [
    "df_encounters = pd.read_csv('data/diabetic_data.csv', \n",
    "                            na_values='?',\n",
    "                            low_memory=False #silence the mixed dtypes warning\n",
    "                           )\n",
    "df_encounters.head()"
   ]
  },
  {
   "cell_type": "code",
   "execution_count": 98,
   "id": "699eb4d7-bc13-47a7-8110-763349d9e60d",
   "metadata": {
    "tags": []
   },
   "outputs": [],
   "source": [
    "#weight has majority values missing\n",
    "#payer_code has some missing values and is not relevant to response\n",
    "df_encounters.drop(['weight','payer_code'],axis=1,inplace=True)\n",
    "\n",
    "#collapse age based on frequency of occurrence and response\n",
    "df_encounters['age'].replace({'[0-10)' :'[0-50)',\n",
    "                              '[10-20)':'[0-50)',\n",
    "                              '[20-30)':'[0-50)',\n",
    "                              '[30-40)':'[0-50)',\n",
    "                              '[40-50)':'[0-50)',\n",
    "                              '[80-90)':'[80-100)',\n",
    "                              '[90-100)':'[80-100)'},\n",
    "                              inplace=True)\n",
    "\n",
    "df_encounters.race.fillna('UNK',inplace=True)\n",
    "\n",
    "df_encounters['admission_type_id'] = df_encounters['admission_type_id'].apply(lambda id: 0 if id >=4 else id)\n",
    "df_encounters.admission_type_id.replace({0:'Other',1:'Emergency',2:'Urgent',3:'Elective'},\n",
    "                                        inplace=True)\n",
    "\n",
    "df_encounters.loc[~df_encounters['admission_source_id'].isin([1,7]) , 'admission_source_id'] = 0\n",
    "df_encounters.admission_source_id.replace({0:'Other',1:'Physician Referral',7:'Emergency Room'},\n",
    "                                           inplace=True)\n",
    "\n",
    "\n",
    "#remove patients transferred to hospice or those that died\n",
    "df_encounters = df_encounters[~df_encounters.discharge_disposition_id.isin([11,13,14,19,20,21])]\n",
    "#collapse unimportant ones\n",
    "df_encounters['discharge_disposition_id']=df_encounters['discharge_disposition_id'].apply(lambda id: \\\n",
    "                                                                                          id if id in [1,3,6]\n",
    "                                                                                          else 0)\n",
    "df_encounters.discharge_disposition_id.replace({0:'Other',1:'Home',3:'SNF',6:'Home w/ Service'},\n",
    "                                               inplace=True)\n",
    "\n",
    "frequent_specialties = ['InternalMedicine','Emergency/Trauma','Family/GeneralPractice','Cardiology',\n",
    "                        'Surgery-General','Nephrology','Orthopedics','Orthopedics-Reconstructive','Radiologist']\n",
    "df_encounters.loc[~df_encounters['medical_specialty'].isin(frequent_specialties) , \n",
    "                  'medical_specialty'] = 'Other'\n",
    "df_encounters.loc[df_encounters['medical_specialty'].isin(['Orthopedics','Orthopedics-Reconstructive']), \n",
    "                  'medical_specialty'] = 'Orthopedics'\n",
    "\n",
    "df_encounters['readmitted'].replace({'<30':1,'NO':0,'>30':0},inplace=True)\n",
    "\n",
    "\n",
    "df_encounters['diabetesMed'].replace({'Yes':1,'No':0},inplace=True)\n",
    "df_encounters['change'].replace({'Ch':1,'No':0},inplace=True)\n",
    "\n",
    "\n",
    "df_encounters['a1c_result_high'] = df_encounters['A1Cresult'].fillna(0).replace({'>8':1,\n",
    "                                                                                 'Norm':0,\n",
    "                                                                                 '>7':1})\n",
    "df_encounters['A1Cresult'].fillna('UNK',inplace=True)\n",
    "\n",
    "\n",
    "df_encounters['max_glu_serum_high'] = df_encounters['max_glu_serum'].fillna(0).replace({'>300':1,\n",
    "                                                                                        'Norm':0,\n",
    "                                                                                         '>200':1})\n",
    "df_encounters['max_glu_serum'].fillna('UNK',inplace=True) #not measured\n"
   ]
  },
  {
   "cell_type": "code",
   "execution_count": 99,
   "id": "2b0e8560-3db2-4f66-a863-4aed486f7e3d",
   "metadata": {
    "tags": []
   },
   "outputs": [
    {
     "data": {
      "text/plain": [
       "diag_1\n",
       "UNK                   20\n",
       "circulatory         1504\n",
       "diabetes            8426\n",
       "digestive           9333\n",
       "genitournary        5002\n",
       "injury              6854\n",
       "musculoskeletal     4935\n",
       "neoplasms          14082\n",
       "other              35253\n",
       "respiratory        13934\n",
       "Name: count, dtype: int64"
      ]
     },
     "metadata": {},
     "output_type": "display_data"
    },
    {
     "name": "stdout",
     "output_type": "stream",
     "text": [
      "\n"
     ]
    },
    {
     "data": {
      "text/plain": [
       "diag_2\n",
       "UNK                  356\n",
       "circulatory         1459\n",
       "diabetes            6654\n",
       "digestive           4088\n",
       "genitournary        8147\n",
       "injury              3112\n",
       "musculoskeletal     1761\n",
       "neoplasms          26334\n",
       "other              37042\n",
       "respiratory        10390\n",
       "Name: count, dtype: int64"
      ]
     },
     "metadata": {},
     "output_type": "display_data"
    },
    {
     "name": "stdout",
     "output_type": "stream",
     "text": [
      "\n"
     ]
    },
    {
     "data": {
      "text/plain": [
       "diag_3\n",
       "UNK                 1419\n",
       "circulatory         1526\n",
       "diabetes            5513\n",
       "digestive           3857\n",
       "genitournary        6436\n",
       "injury              3135\n",
       "musculoskeletal     1898\n",
       "neoplasms          30460\n",
       "other              38093\n",
       "other.other            1\n",
       "respiratory         7005\n",
       "Name: count, dtype: int64"
      ]
     },
     "metadata": {},
     "output_type": "display_data"
    },
    {
     "name": "stdout",
     "output_type": "stream",
     "text": [
      "\n"
     ]
    }
   ],
   "source": [
    "\n",
    "#Process the diag codes\n",
    "\n",
    "group_to_code_patterns = dict()\n",
    "group_to_code_patterns['diabetes']=r'250\\..*'\n",
    "group_to_code_patterns['circulatory']=r'(39[0-9])|(45[0-9])|(785)'\n",
    "group_to_code_patterns['respiratory']=r'(4[6-9][0-9])|(5[0-1][0-9])|(786)'\n",
    "group_to_code_patterns['digestive']=r'(5[2-7][0-9])|(787)'\n",
    "group_to_code_patterns['injury']=r'([8|9][0-9][0-9])|(E[8|9][0-9][0-9])'\n",
    "group_to_code_patterns['musculoskeletal']=r'(7[1-3][0-9])'\n",
    "group_to_code_patterns['genitournary']=r'(5[8-9][0-9])|(6[0-2][0-9])|(788)'\n",
    "group_to_code_patterns['neoplasms']=r'(1[4-9][0-9])|(2[0-9][0-9])|(78(0|1|4))|(79[0-9])|(2[4-7][0-9])|(6[8-9][0-9])|(70[0-9])|(782)'\n",
    "group_to_code_patterns['other']=r'(V[0-9]+)|([0-9]+)|other.*'\n",
    "\n",
    "for diag in ['diag_1','diag_2','diag_3']:\n",
    "    df_encounters[diag].fillna('UNK',inplace=True)\n",
    "    for group,pattern in group_to_code_patterns.items():\n",
    "        df_encounters[diag]=df_encounters[diag].str.replace(pattern,group,regex=True)\n",
    "    #print to check\n",
    "    display(df_encounters[diag].value_counts().sort_index())\n",
    "    print()\n"
   ]
  },
  {
   "cell_type": "code",
   "execution_count": 100,
   "id": "6f94a8be-238e-4bbc-988e-074616c02813",
   "metadata": {
    "tags": []
   },
   "outputs": [
    {
     "data": {
      "text/plain": [
       "readmitted\n",
       "0    0.886112\n",
       "1    0.113888\n",
       "Name: count, dtype: float64"
      ]
     },
     "execution_count": 100,
     "metadata": {},
     "output_type": "execute_result"
    }
   ],
   "source": [
    "# get only the last encounter for each patient\n",
    "df_patient_by_last_encounter = df_encounters.groupby('patient_nbr').last()\n",
    "df_encounters.readmitted.value_counts()/df_encounters.shape[0]"
   ]
  },
  {
   "cell_type": "code",
   "execution_count": 101,
   "id": "06ba5aaf-3bd5-4ba4-a952-4036b43ec967",
   "metadata": {
    "tags": []
   },
   "outputs": [],
   "source": [
    "\n",
    "df_multiple_encounter_patients = df_encounters.groupby('patient_nbr').filter(lambda group: len(group)>1)\n",
    "df_multiple_encounter_patients_except_last = df_multiple_encounter_patients.groupby('patient_nbr') \\\n",
    "                                                                           .apply( lambda group: group.iloc[:-1]) \\\n",
    "                                                                           .reset_index(drop=True)"
   ]
  },
  {
   "cell_type": "code",
   "execution_count": 102,
   "id": "737750f2-9dfa-40c2-9abd-e806ac6f042b",
   "metadata": {
    "tags": []
   },
   "outputs": [
    {
     "data": {
      "text/plain": [
       "(69990, 84)"
      ]
     },
     "execution_count": 102,
     "metadata": {},
     "output_type": "execute_result"
    }
   ],
   "source": [
    "#aggregate encounter history for each patient\n",
    "\n",
    "df_patient_encounter = df_multiple_encounter_patients_except_last.groupby('patient_nbr') \\\n",
    "                                    .agg({'encounter_id':'nunique', \n",
    "                                          'time_in_hospital':['mean','min','max'],\n",
    "                                          'num_lab_procedures':['mean','min','max'],\n",
    "                                          'num_procedures': ['mean','min','max'],\n",
    "                                          'num_medications':['mean','min','max'],\n",
    "                                          'number_diagnoses':['mean','min','max'],\n",
    "                                          'max_glu_serum':['nunique'],\n",
    "                                          'max_glu_serum_high':['mean','sum','all','any'],\n",
    "                                          'A1Cresult':'nunique',\n",
    "                                          'a1c_result_high':['mean','sum','all','any'],\n",
    "                                          'change':['mean','sum','all','any'],\n",
    "                                          'diabetesMed': ['mean','sum','all','any'],\n",
    "                                          'readmitted': ['mean','sum','all','any']})\n",
    "\n",
    "aggr_cols = ['num_encounters',\n",
    "             'avg_time_in_hospital','min_time_in_hospital','max_time_in_hospital',\n",
    "             'avg_num_lab_procedures','min_num_lab_procedures','max_num_lab_procedures',\n",
    "             'avg_num_procedures','min_num_procedures','max_num_procedures',\n",
    "             'avg_num_medications','min_num_medications','max_num_medications',\n",
    "             'mean_diagnoses','min_diagnoses','max_diagnoses',\n",
    "             'unique_glu_measurements',\n",
    "             'avg_times_glu_high','num_times_glu_high','glu_always_high','glu_ever_high',\n",
    "             'unique_a1c_results',\n",
    "             'avg_times_a1c_high','num_times_a1c_high','a1c_always_high','a1c_ever_high',\n",
    "             'avg_times_med_changed','num_times_med_changed','med_always_changed','med_ever_changed',\n",
    "             'avg_times_diabetic_med_prescribed','num_times_diabetic_med_prescribed',\n",
    "             'diabetic_med_always_prescribed', 'diabetic_med_ever_prescribed',\n",
    "             'avg_times_readmitted','num_times_readmitted','always_readmitted','ever_readmitted']\n",
    "df_patient_encounter.columns = aggr_cols\n",
    "\n",
    "for col in df_patient_encounter.select_dtypes(bool):\n",
    "    df_patient_encounter[col] = df_patient_encounter[col].astype(int)\n",
    "    \n",
    "assert df_patient_by_last_encounter.isna().sum().sum() == 0\n",
    "df_patient_by_last_encounter = df_patient_by_last_encounter.merge(df_patient_encounter,on='patient_nbr',\n",
    "                                                                  how='left').fillna(0)\n",
    "\n",
    "#no use for encounter_id or the two other temp columns anymore\n",
    "df_patient_by_last_encounter.drop(['encounter_id','a1c_result_high','max_glu_serum_high'],axis=1,inplace=True)\n",
    "\n",
    "df_patient_by_last_encounter.shape"
   ]
  },
  {
   "cell_type": "code",
   "execution_count": 103,
   "id": "4038e776-2514-4b26-90b6-5c11cf1fd572",
   "metadata": {
    "tags": []
   },
   "outputs": [],
   "source": [
    "# change binary columns back to categorical to simplify downstream pipeline\n",
    "for col in df_patient_by_last_encounter.columns:\n",
    "    if df_patient_by_last_encounter[col].nunique()==2 and col != 'readmitted':\n",
    "        df_patient_by_last_encounter[col].replace({1:'Yes',0:'No'},inplace=True)"
   ]
  },
  {
   "cell_type": "code",
   "execution_count": 104,
   "id": "1ecee1b1-fc75-4d34-97ea-6cf3bff3ee02",
   "metadata": {
    "tags": []
   },
   "outputs": [],
   "source": [
    "assert df_patient_by_last_encounter.shape[0] == len(df_encounters.groupby('patient_nbr'))\n",
    "# no missing response values\n",
    "assert sum(df_patient_by_last_encounter['readmitted'].isna()) == 0\n",
    "# no missing values in predictors\n",
    "assert df_patient_by_last_encounter.isna().sum().sum() == 0"
   ]
  },
  {
   "cell_type": "code",
   "execution_count": 105,
   "id": "d4bde681-c907-4036-aa00-b76c3cd0bdc7",
   "metadata": {
    "tags": []
   },
   "outputs": [],
   "source": [
    "df_patient_by_last_encounter.to_csv('data/diabetic_data_processed_2.csv')"
   ]
  },
  {
   "cell_type": "code",
   "execution_count": null,
   "id": "df76e642-207a-4266-833d-ce246fb9967b",
   "metadata": {},
   "outputs": [],
   "source": []
  }
 ],
 "metadata": {
  "kernelspec": {
   "display_name": "Python 3 (ipykernel)",
   "language": "python",
   "name": "python3"
  },
  "language_info": {
   "codemirror_mode": {
    "name": "ipython",
    "version": 3
   },
   "file_extension": ".py",
   "mimetype": "text/x-python",
   "name": "python",
   "nbconvert_exporter": "python",
   "pygments_lexer": "ipython3",
   "version": "3.11.5"
  }
 },
 "nbformat": 4,
 "nbformat_minor": 5
}
